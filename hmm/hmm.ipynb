{
 "cells": [
  {
   "cell_type": "code",
   "execution_count": 5,
   "metadata": {
    "collapsed": true
   },
   "outputs": [],
   "source": [
    "import numpy as np\n",
    "from __future__ import print_function"
   ]
  },
  {
   "cell_type": "markdown",
   "metadata": {},
   "source": [
    "## Viterbi Algorithm"
   ]
  },
  {
   "cell_type": "code",
   "execution_count": 2,
   "metadata": {
    "collapsed": false
   },
   "outputs": [],
   "source": [
    "def viterbi(pi, A, B, O):\n",
    "    path = []\n",
    "    S = len(pi)\n",
    "    N = len(O)\n",
    "    deltas = np.zeros((S, N), dtype=float)\n",
    "    chosen = np.zeros((S, N), dtype=int)\n",
    "\n",
    "    deltas[:,0] = pi * B[:,O[0]]\n",
    "\n",
    "    for t in range(1, N):\n",
    "        prob = B[:,O[t]] * (A.T * deltas[:,t-1]).T\n",
    "        deltas[:,t] = np.max(prob, axis=0)\n",
    "        chosen[:,t] = np.argmax(prob, axis=0)\n",
    "\n",
    "    chosen_max = np.argmax(deltas[:,N-1])    \n",
    "    path.insert (0, chosen_max)\n",
    "    for t in range(N-1,0,-1):\n",
    "        chosen_max = chosen[chosen_max][t]\n",
    "        path.insert(0, chosen_max)\n",
    "    return path"
   ]
  },
  {
   "cell_type": "markdown",
   "metadata": {},
   "source": [
    "## Forward-Backward calculations"
   ]
  },
  {
   "cell_type": "code",
   "execution_count": 3,
   "metadata": {
    "collapsed": false
   },
   "outputs": [],
   "source": [
    "'''\n",
    "Calculates Alpha of the forward algorithm\n",
    "'''\n",
    "def forward(pi, A, B, O):\n",
    "    S = len(pi)\n",
    "    N = len(O)\n",
    "    alpha = np.zeros([S, N])\n",
    "    alpha[:,0] = pi * B[:,O[0]]\n",
    "\n",
    "    for t in range(1, N):\n",
    "        alpha[:,t] = B[:,O[t]] * A.T.dot(alpha[:,t-1])\n",
    "\n",
    "    return alpha\n",
    "\n",
    "'''\n",
    "Calculates beta of the backward algorithm\n",
    "'''\n",
    "def backward(pi, A, B, O):\n",
    "    S = len(pi)\n",
    "    N = len(O)\n",
    "    beta = np.zeros([S, N])\n",
    "    beta[ :, N-1] = np.ones(S)\n",
    "    \n",
    "    for t in range(N-2, -1, -1):\n",
    "        beta[:,t] = A.dot(B[:,O[t+1]] * beta[:,t+1])\n",
    "    return beta\n",
    "\n",
    "'''\n",
    "Calculates the probability of the observation sequence\n",
    "'''\n",
    "def seqprob_forward(alpha):    \n",
    "    prob = 0.0\n",
    "    prob = np.sum(alpha, axis = 0)[alpha.shape[1]-1]\n",
    "    return prob\n",
    "\n",
    "'''\n",
    "Calculates the probability of the observation sequence\n",
    "'''\n",
    "def seqprob_backward(beta, pi, B, O):\n",
    "    prob = 0.0\n",
    "    prob = np.sum(beta[:,0] * pi * B[:,O[0]])\n",
    "    return prob"
   ]
  },
  {
   "cell_type": "code",
   "execution_count": 8,
   "metadata": {
    "collapsed": false
   },
   "outputs": [
    {
     "name": "stdout",
     "output_type": "stream",
     "text": [
      "Total log probability of observing the sequence [0 2 1 2 3 0] is -8.16334, -8.16334.\n",
      "Viterbi best path is \n",
      "1 1 1 1 1 1 "
     ]
    }
   ],
   "source": [
    "# defining the hmm model\n",
    "conditional = np.array([[0.4, 0.1, 0.4, 0.1],\n",
    "               [0.2, 0.3, 0.2, 0.3]])\n",
    "transition = np.array([[0.8, 0.2],\n",
    "              [0.4, 0.6]])\n",
    "initial = np.array([0.7, 0.3])\n",
    "observation_map = {0: \"A\", 1: \"C\", 2: \"G\", 3: \"T\"}\n",
    "observations = np.array([0, 2, 1, 2, 3, 0])\n",
    "states_symbols = [\"1\", \"2\"]\n",
    "\n",
    "N = len(observations)\n",
    "O = [observations[j] for j in observations]\n",
    "\n",
    "alpha = forward(initial, transition, conditional, O)\n",
    "beta = backward(initial, transition, conditional, O)\n",
    "\n",
    "prob1 = seqprob_forward(alpha)\n",
    "prob2 = seqprob_backward(beta, initial, conditional, O)\n",
    "print('Total log probability of observing the sequence %s is %g, %g.' % (observations, np.log(prob1), np.log(prob2)))\n",
    "\n",
    "viterbi_path = viterbi(initial, transition, conditional, O)\n",
    "\n",
    "print('Viterbi best path is ')\n",
    "for j in viterbi_path:\n",
    "    print(states_symbols[j], end=' ')\n"
   ]
  },
  {
   "cell_type": "code",
   "execution_count": null,
   "metadata": {
    "collapsed": true
   },
   "outputs": [],
   "source": []
  }
 ],
 "metadata": {
  "kernelspec": {
   "display_name": "Python [conda root]",
   "language": "python",
   "name": "conda-root-py"
  },
  "language_info": {
   "codemirror_mode": {
    "name": "ipython",
    "version": 2
   },
   "file_extension": ".py",
   "mimetype": "text/x-python",
   "name": "python",
   "nbconvert_exporter": "python",
   "pygments_lexer": "ipython2",
   "version": "2.7.13"
  }
 },
 "nbformat": 4,
 "nbformat_minor": 2
}
