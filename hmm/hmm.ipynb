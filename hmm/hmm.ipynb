{
 "cells": [
  {
   "cell_type": "code",
   "execution_count": 2,
   "metadata": {
    "collapsed": true
   },
   "outputs": [],
   "source": [
    "import numpy as np"
   ]
  },
  {
   "cell_type": "code",
   "execution_count": 6,
   "metadata": {
    "collapsed": false
   },
   "outputs": [],
   "source": [
    "conditional = np.array([[0.4, 0.1, 0.4, 0.1],\n",
    "               [0.2, 0.3, 0.2, 0.3]])\n",
    "transition = np.array([[0.8, 0.2],\n",
    "              [0.4, 0.6]])\n",
    "initial = np.array([0.7, 0.3])\n",
    "observations = np.array([0, 2, 1, 2, 3, 0])\n",
    "# observations = np.array([1,1,1,1,1,1])\n",
    "T = 6"
   ]
  },
  {
   "cell_type": "markdown",
   "metadata": {},
   "source": [
    "## Viterbi Algorithm"
   ]
  },
  {
   "cell_type": "code",
   "execution_count": 12,
   "metadata": {
    "collapsed": false
   },
   "outputs": [
    {
     "name": "stdout",
     "output_type": "stream",
     "text": [
      "0 0 1 0.0896\n",
      "1 0 1 0.0096\n",
      "0 1 1 0.0112\n",
      "1 1 1 0.0072\n",
      "0 0 2 0.007168\n",
      "1 0 2 0.000448\n",
      "0 1 2 0.005376\n",
      "1 1 2 0.002016\n",
      "0 0 3 0.00229376\n",
      "1 0 3 0.00086016\n",
      "0 1 3 0.00028672\n",
      "1 1 3 0.00064512\n",
      "0 0 4 0.0001835008\n",
      "1 0 4 2.58048e-05\n",
      "0 1 4 0.0001376256\n",
      "1 1 4 0.0001161216\n",
      "0 0 5 5.8720256e-05\n",
      "1 0 5 2.2020096e-05\n",
      "0 1 5 7.340032e-06\n",
      "1 1 5 1.6515072e-05\n",
      "[[0.28000000 0.06000000]\n",
      " [0.08960000 0.01120000]\n",
      " [0.00716800 0.00537600]\n",
      " [0.00229376 0.00064512]\n",
      " [0.00018350 0.00013763]\n",
      " [0.00005872 0.00001652]]\n",
      "[[0 0]\n",
      " [0 0]\n",
      " [0 0]\n",
      " [0 1]\n",
      " [0 0]\n",
      " [0 1]]\n",
      "5.8720256e-05\n",
      "Most Likely Sequence: 0 => 0 => 0 => 0 => 0 => 0\n"
     ]
    }
   ],
   "source": [
    "deltas = np.zeros((observations.shape[0], initial.shape[0]), dtype=float)\n",
    "chosen = np.zeros((observations.shape[0], initial.shape[0]), dtype=int)\n",
    "\n",
    "for i in range(initial.shape[0]):\n",
    "    deltas[0][i] = initial[i] * conditional[i][observations[0]]\n",
    "\n",
    "for t in range(1, observations.shape[0]):\n",
    "    for j in range(initial.shape[0]):\n",
    "        max_val = float(\"-inf\")\n",
    "        max_state = -1\n",
    "        for i in range(initial.shape[0]):\n",
    "            val = conditional[j][observations[t]] * transition[i][j] * deltas[t-1][i]\n",
    "            print i,j,t,val\n",
    "            \n",
    "            if max_val < val:\n",
    "                max_val = val\n",
    "                max_state = i\n",
    "        deltas[t][j] = max_val\n",
    "        chosen[t][j] = max_state\n",
    "\n",
    "float_formatter = lambda x: \"%.8f\" % x        \n",
    "np.set_printoptions(formatter={'float_kind':float_formatter})\n",
    "print deltas\n",
    "print chosen\n",
    "\n",
    "chosen_max = -1\n",
    "chosen_max_value = float(\"-inf\")\n",
    "\n",
    "for i in range(initial.shape[0]):\n",
    "    if chosen_max_value < deltas[T-1][i]:\n",
    "        chosen_max = i\n",
    "        chosen_max_value = deltas[T-1][i]\n",
    "\n",
    "print chosen_max_value\n",
    "output_sequence = str(chosen[T-1][chosen_max])\n",
    "\n",
    "for t in range(T-1,0,-1):\n",
    "    chosen_max = chosen[t][chosen_max]\n",
    "    output_sequence = str(chosen_max) + \" => \"+ output_sequence\n",
    "\n",
    "print \"Most Likely Sequence: \"+output_sequence\n",
    "    "
   ]
  },
  {
   "cell_type": "markdown",
   "metadata": {},
   "source": [
    "## P(x_1, x_2, .. x_T)"
   ]
  },
  {
   "cell_type": "code",
   "execution_count": 5,
   "metadata": {
    "collapsed": false
   },
   "outputs": [
    {
     "name": "stdout",
     "output_type": "stream",
     "text": [
      "[[0.28000000 0.06000000]\n",
      " [0.09920000 0.01840000]\n",
      " [0.00867200 0.00926400]\n",
      " [0.00425728 0.00145856]\n",
      " [0.00039892 0.00051798]\n",
      " [0.00021053 0.00007811]]\n",
      "Prob: 0.314806304357\n"
     ]
    }
   ],
   "source": [
    "observations = np.array([0, 2, 1, 2, 3, 0])\n",
    "# observations = np.array([1,1,1,1,1,1])\n",
    "T = 6\n",
    "alphas = np.zeros((observations.shape[0], initial.shape[0]))\n",
    "for i in range(initial.shape[0]):\n",
    "    alphas[0][i] = initial[i] * conditional[i][observations[0]]\n",
    "    \n",
    "for t in range(1, observations.shape[0]):\n",
    "    for j in range(initial.shape[0]):\n",
    "        val = 0.0\n",
    "        for i in range(initial.shape[0]):\n",
    "            val += transition[i][j] * alphas[t-1][i]\n",
    "            \n",
    "        alphas[t][j] = conditional[j][observations[t]] * val\n",
    "print alphas\n",
    "print \"Prob: \"+ str(np.sum(alphas, axis=1)[T-1]/np.sum(alphas, axis=1)[T-2])"
   ]
  },
  {
   "cell_type": "code",
   "execution_count": null,
   "metadata": {
    "collapsed": true
   },
   "outputs": [],
   "source": []
  }
 ],
 "metadata": {
  "kernelspec": {
   "display_name": "Python [conda root]",
   "language": "python",
   "name": "conda-root-py"
  },
  "language_info": {
   "codemirror_mode": {
    "name": "ipython",
    "version": 2
   },
   "file_extension": ".py",
   "mimetype": "text/x-python",
   "name": "python",
   "nbconvert_exporter": "python",
   "pygments_lexer": "ipython2",
   "version": "2.7.13"
  }
 },
 "nbformat": 4,
 "nbformat_minor": 2
}
