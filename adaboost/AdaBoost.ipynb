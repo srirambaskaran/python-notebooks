{
 "cells": [
  {
   "cell_type": "code",
   "execution_count": 14,
   "metadata": {
    "collapsed": true
   },
   "outputs": [],
   "source": [
    "import math\n",
    "import numpy\n",
    "import itertools\n",
    "import random"
   ]
  },
  {
   "cell_type": "code",
   "execution_count": 15,
   "metadata": {
    "collapsed": true
   },
   "outputs": [],
   "source": [
    "def stump_functions():\n",
    "    s = [1,-1]\n",
    "    b = [-2.0,-0.5,0.5,2.0]\n",
    "    d = [1,2]\n",
    "    return itertools.product(s,b,d)\n",
    "\n",
    "def input_data():\n",
    "    X = [ [0.0, math.sqrt(2)], [-math.sqrt(2), 0.0], [0.0,-math.sqrt(2)], [math.sqrt(2), 0.0] ]\n",
    "    y = [1,-1,1,-1]\n",
    "    return numpy.array(X), numpy.array(y)\n",
    "\n",
    "def classify(x, stump_function):\n",
    "    if x[stump_function[2]-1] > stump_function[1]:\n",
    "        return stump_function[0]\n",
    "    else:\n",
    "        return -1 * stump_function[0]\n",
    "\n",
    "def error(y, weights, classification_results):\n",
    "    nd = weights.shape[0]\n",
    "    weighted_error = 0.0\n",
    "    for i in range(nd):\n",
    "        if y[i] != classification_results[i]:\n",
    "            weighted_error += weights[i]\n",
    "    return weighted_error"
   ]
  },
  {
   "cell_type": "code",
   "execution_count": 16,
   "metadata": {
    "collapsed": true
   },
   "outputs": [],
   "source": [
    "X,y = input_data()\n",
    "n,nd = X.shape\n",
    "weights = numpy.full((n,),1.0/n)\n",
    "T = 3\n",
    "stumps = list(stump_functions())"
   ]
  },
  {
   "cell_type": "code",
   "execution_count": 17,
   "metadata": {
    "collapsed": false
   },
   "outputs": [],
   "source": [
    "betas = []\n",
    "selected_stumps = []"
   ]
  },
  {
   "cell_type": "code",
   "execution_count": 18,
   "metadata": {
    "collapsed": false
   },
   "outputs": [
    {
     "name": "stdout",
     "output_type": "stream",
     "text": [
      "+++++++++++ t = 0 +++++++\n",
      "('error', 0.25, 'chosen stump', (-1, -0.5, 2))\n",
      "('beta', 0.5493061443340549)\n",
      "('weights old', array([ 0.25,  0.25,  0.25,  0.25]))\n",
      "('weights new', array([ 0.5       ,  0.16666667,  0.16666667,  0.16666667]))\n",
      "+++++++++++ t = 1 +++++++\n",
      "('error', 0.16666666666666666, 'chosen stump', (1, 0.5, 2))\n",
      "('beta', 0.8047189562170503)\n",
      "('weights old', array([ 0.5       ,  0.16666667,  0.16666667,  0.16666667]))\n",
      "('weights new', array([ 0.3,  0.1,  0.5,  0.1]))\n",
      "+++++++++++ t = 2 +++++++\n",
      "('error', 0.099999999999999964, 'chosen stump', (-1, 0.5, 1))\n",
      "('beta', 1.0986122886681098)\n",
      "('weights old', array([ 0.3,  0.1,  0.5,  0.1]))\n",
      "('weights new', array([ 0.16666667,  0.5       ,  0.27777778,  0.05555556]))\n"
     ]
    }
   ],
   "source": [
    "for t in range(T):\n",
    "    # Run for each T best stumps\n",
    "    print \"+++++++++++ t = \"+str(t)+ \" +++++++\"\n",
    "    min_error = float(\"inf\")\n",
    "    selected_stump = None\n",
    "    \n",
    "    # (a,b) Find the best stump (can choose same stump across iterations, mostly it won't happen)\n",
    "    random.shuffle(stumps)\n",
    "    for stump in stumps:\n",
    "        classification_results = []\n",
    "        for i in range(n):\n",
    "            classification_results.append(classify(X[i], stump))\n",
    "        weighted_error = error(y, weights, classification_results)\n",
    "        if weighted_error <= min_error:\n",
    "            min_error = weighted_error\n",
    "            selected_stump = stump\n",
    "    \n",
    "    print(\"error\",min_error, \"chosen stump\", selected_stump)\n",
    "    \n",
    "    # (c) Calculate beta\n",
    "    beta = 0.5 * math.log( (1 - min_error) / min_error)\n",
    "    print (\"beta\",beta)\n",
    "    print (\"weights old\",weights)\n",
    "    \n",
    "    # for future use\n",
    "    betas.append(beta)\n",
    "    selected_stumps.append(selected_stump)\n",
    "    \n",
    "    # (d) Update weights for next iteration\n",
    "    for i in range(n):\n",
    "        classification_chosen_stump = classify(X[i], selected_stump)\n",
    "        if y[i] == classification_chosen_stump:\n",
    "            weights[i] = weights[i]*math.exp(-beta)\n",
    "        else:\n",
    "            weights[i] = weights[i]*math.exp(beta)\n",
    "    # (e) Calculate norms\n",
    "    norm = sum(weights)\n",
    "    weights = weights/norm\n",
    "    \n",
    "    print (\"weights new\",weights)"
   ]
  },
  {
   "cell_type": "code",
   "execution_count": 19,
   "metadata": {
    "collapsed": false
   },
   "outputs": [
    {
     "name": "stdout",
     "output_type": "stream",
     "text": [
      "('X: ', array([ 0.        ,  1.41421356]), 1.0)\n",
      "('X: ', array([-1.41421356,  0.        ]), -1.0)\n",
      "('X: ', array([ 0.        , -1.41421356]), 1.0)\n",
      "('X: ', array([ 1.41421356,  0.        ]), -1.0)\n",
      "('correct: ', 4)\n"
     ]
    }
   ],
   "source": [
    "correct = 0\n",
    "for i in range(n):\n",
    "    main_classifier_val = 0.0\n",
    "    for t in range(T):\n",
    "        classification = classify(X[i], selected_stumps[t])\n",
    "        main_classifier_val += betas[t] * classification\n",
    "    \n",
    "    classification = numpy.sign(main_classifier_val)\n",
    "    print (\"X: \", X[i], classification)\n",
    "    \n",
    "    if y[i] == classification:\n",
    "        correct += 1\n",
    "\n",
    "print (\"correct: \", correct)"
   ]
  },
  {
   "cell_type": "code",
   "execution_count": null,
   "metadata": {
    "collapsed": true
   },
   "outputs": [],
   "source": []
  }
 ],
 "metadata": {
  "kernelspec": {
   "display_name": "Python [conda root]",
   "language": "python",
   "name": "conda-root-py"
  },
  "language_info": {
   "codemirror_mode": {
    "name": "ipython",
    "version": 2
   },
   "file_extension": ".py",
   "mimetype": "text/x-python",
   "name": "python",
   "nbconvert_exporter": "python",
   "pygments_lexer": "ipython2",
   "version": "2.7.13"
  }
 },
 "nbformat": 4,
 "nbformat_minor": 2
}
